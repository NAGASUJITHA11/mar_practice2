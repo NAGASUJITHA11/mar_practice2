{
 "cells": [
  {
   "cell_type": "code",
   "execution_count": 1,
   "id": "beb68823-5e21-4ea2-ba24-cce106a11a04",
   "metadata": {},
   "outputs": [
    {
     "name": "stdout",
     "output_type": "stream",
     "text": [
      "100.0\n"
     ]
    }
   ],
   "source": [
    "print(float(100))"
   ]
  },
  {
   "cell_type": "code",
   "execution_count": 3,
   "id": "6a143da7-361d-42e8-bbd2-5fb6639c6769",
   "metadata": {},
   "outputs": [
    {
     "name": "stdout",
     "output_type": "stream",
     "text": [
      "-100.0\n"
     ]
    }
   ],
   "source": [
    "print(float(-100))"
   ]
  },
  {
   "cell_type": "code",
   "execution_count": 5,
   "id": "b50768fa-f801-4797-bc82-0a3fe6ac5876",
   "metadata": {},
   "outputs": [
    {
     "name": "stdout",
     "output_type": "stream",
     "text": [
      "0.0\n"
     ]
    }
   ],
   "source": [
    "print(float(0))"
   ]
  },
  {
   "cell_type": "code",
   "execution_count": 7,
   "id": "9fc63afa-48c9-4df7-a5cb-1e00faf4371a",
   "metadata": {},
   "outputs": [
    {
     "name": "stdout",
     "output_type": "stream",
     "text": [
      "False\n"
     ]
    }
   ],
   "source": [
    "print(bool(0))"
   ]
  },
  {
   "cell_type": "markdown",
   "id": "01493052-00ef-42cb-a193-382581351774",
   "metadata": {},
   "source": [
    "float to other data types"
   ]
  },
  {
   "cell_type": "code",
   "execution_count": 11,
   "id": "3db528b9-7423-4be9-9c83-7118a0a490bc",
   "metadata": {},
   "outputs": [
    {
     "name": "stdout",
     "output_type": "stream",
     "text": [
      "-100\n",
      "True\n",
      "-100.0\n"
     ]
    }
   ],
   "source": [
    "n1=int(-100.0)\n",
    "n2=bool(-100.0)\n",
    "n3=str(-100.0)\n",
    "print(n1)\n",
    "print(n2)\n",
    "print(n3)"
   ]
  },
  {
   "cell_type": "code",
   "execution_count": 17,
   "id": "1426c65d-c818-4f08-83ff-ec747fe2711c",
   "metadata": {},
   "outputs": [
    {
     "name": "stdout",
     "output_type": "stream",
     "text": [
      "10.5\n"
     ]
    },
    {
     "ename": "ValueError",
     "evalue": "invalid literal for int() with base 10: '10.5'",
     "output_type": "error",
     "traceback": [
      "\u001b[1;31m---------------------------------------------------------------------------\u001b[0m",
      "\u001b[1;31mValueError\u001b[0m                                Traceback (most recent call last)",
      "Cell \u001b[1;32mIn[17], line 2\u001b[0m\n\u001b[0;32m      1\u001b[0m \u001b[38;5;28mprint\u001b[39m(\u001b[38;5;28mfloat\u001b[39m(\u001b[38;5;124m'\u001b[39m\u001b[38;5;124m10.5\u001b[39m\u001b[38;5;124m'\u001b[39m))\n\u001b[1;32m----> 2\u001b[0m \u001b[38;5;28mprint\u001b[39m(\u001b[38;5;28mint\u001b[39m(\u001b[38;5;124m'\u001b[39m\u001b[38;5;124m10.5\u001b[39m\u001b[38;5;124m'\u001b[39m))\n\u001b[0;32m      3\u001b[0m \u001b[38;5;28mprint\u001b[39m(\u001b[38;5;28mbool\u001b[39m(\u001b[38;5;124m'\u001b[39m\u001b[38;5;124m10.5\u001b[39m\u001b[38;5;124m'\u001b[39m))\n",
      "\u001b[1;31mValueError\u001b[0m: invalid literal for int() with base 10: '10.5'"
     ]
    }
   ],
   "source": [
    "print(float('10.5'))\n",
    "print(int('10.5'))\n",
    "print(bool('10.5'))"
   ]
  },
  {
   "cell_type": "code",
   "execution_count": 19,
   "id": "7a0c974f-c424-490e-ab80-79bc2c7d2e45",
   "metadata": {},
   "outputs": [
    {
     "data": {
      "text/plain": [
       "(1, 1.0, 'True')"
      ]
     },
     "execution_count": 19,
     "metadata": {},
     "output_type": "execute_result"
    }
   ],
   "source": [
    "int(True), float(True), str(True)"
   ]
  },
  {
   "cell_type": "code",
   "execution_count": 21,
   "id": "e4a102bd-35c4-410d-80b4-a3a71a81a658",
   "metadata": {},
   "outputs": [
    {
     "data": {
      "text/plain": [
       "(0, 0.0, 'False')"
      ]
     },
     "execution_count": 21,
     "metadata": {},
     "output_type": "execute_result"
    }
   ],
   "source": [
    "int(False), float(False), str(False)"
   ]
  },
  {
   "cell_type": "code",
   "execution_count": null,
   "id": "3c22d902-5d71-4e94-8b06-9fb3136092b8",
   "metadata": {},
   "outputs": [],
   "source": [
    "float(10),str(10),bool(10),int(10.5),str(10.5),bool(10.5),int('apple'),float('apple'),bool('apple')"
   ]
  }
 ],
 "metadata": {
  "kernelspec": {
   "display_name": "Python [conda env:base] *",
   "language": "python",
   "name": "conda-base-py"
  },
  "language_info": {
   "codemirror_mode": {
    "name": "ipython",
    "version": 3
   },
   "file_extension": ".py",
   "mimetype": "text/x-python",
   "name": "python",
   "nbconvert_exporter": "python",
   "pygments_lexer": "ipython3",
   "version": "3.12.7"
  }
 },
 "nbformat": 4,
 "nbformat_minor": 5
}
