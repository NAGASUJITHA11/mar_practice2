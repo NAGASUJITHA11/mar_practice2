{
 "cells": [
  {
   "cell_type": "markdown",
   "id": "75bf9267-2d30-4b2b-88d7-e2eae948e2f0",
   "metadata": {},
   "source": [
    "##data types\n",
    "- integer\n",
    "- float\n",
    "- string\n",
    "- list\n",
    "- tuple\n",
    "- set\n",
    "  - frozen set\n",
    "- dictionary\n",
    "- boolean\n",
    "- complex\n",
    "- range\n",
    "- byte\n",
    "- byte array\n",
    "- memory view\n",
    "- none type"
   ]
  },
  {
   "cell_type": "markdown",
   "id": "011597ce-4e0d-4f8f-8d8a-8a38ce60a4d9",
   "metadata": {},
   "source": [
    "**number system**\n",
    "- binary number system\n",
    "- decimal number system\n",
    "- octa number system\n",
    "- hexa number system\n"
   ]
  },
  {
   "cell_type": "code",
   "execution_count": null,
   "id": "6d5daeba-1e35-456e-9a4a-bc770f3d4f77",
   "metadata": {},
   "outputs": [],
   "source": [
    "**binary number system**\n",
    " - it is denoted with **0b** or **0B**\n",
    "- binary means two\n",
    "- we have generally 0 to 9, but  binary means only two digits allowed : 0 and 1\n",
    "- ex: 0b101  0b111  0b000  0B001\n",
    " - not valid : 0b123  0B1000012\n"
   ]
  },
  {
   "cell_type": "code",
   "execution_count": 1,
   "id": "b9410d1d-ea96-469d-9f2a-e12f356eada7",
   "metadata": {},
   "outputs": [
    {
     "data": {
      "text/plain": [
       "11"
      ]
     },
     "execution_count": 1,
     "metadata": {},
     "output_type": "execute_result"
    }
   ],
   "source": [
    "0b1011"
   ]
  },
  {
   "cell_type": "code",
   "execution_count": 3,
   "id": "cbd244e4-eeac-40d0-88ab-0612781b245d",
   "metadata": {},
   "outputs": [
    {
     "data": {
      "text/plain": [
       "11101"
      ]
     },
     "execution_count": 3,
     "metadata": {},
     "output_type": "execute_result"
    }
   ],
   "source": [
    "11101"
   ]
  },
  {
   "cell_type": "code",
   "execution_count": 5,
   "id": "53ecd03c-1f2a-423e-94f9-4cb318855336",
   "metadata": {},
   "outputs": [
    {
     "data": {
      "text/plain": [
       "29"
      ]
     },
     "execution_count": 5,
     "metadata": {},
     "output_type": "execute_result"
    }
   ],
   "source": [
    "0b11101"
   ]
  },
  {
   "cell_type": "code",
   "execution_count": 7,
   "id": "b4bbafe8-05c7-46d8-85a0-dc42377875a8",
   "metadata": {},
   "outputs": [
    {
     "data": {
      "text/plain": [
       "11"
      ]
     },
     "execution_count": 7,
     "metadata": {},
     "output_type": "execute_result"
    }
   ],
   "source": [
    "0b01011"
   ]
  },
  {
   "cell_type": "code",
   "execution_count": 17,
   "id": "6160fb44-1294-479d-b308-0700ec38f7d2",
   "metadata": {},
   "outputs": [
    {
     "data": {
      "text/plain": [
       "(11, 2, 6, 14)"
      ]
     },
     "execution_count": 17,
     "metadata": {},
     "output_type": "execute_result"
    }
   ],
   "source": [
    "0b1011,0b010,0b110, 0b1110"
   ]
  },
  {
   "cell_type": "code",
   "execution_count": null,
   "id": "b5b63eba-f95d-4b17-92b7-6d6880c52fde",
   "metadata": {},
   "outputs": [],
   "source": []
  },
  {
   "cell_type": "code",
   "execution_count": 11,
   "id": "4369d967-e41a-4dbb-8d69-cb9e8d96316b",
   "metadata": {},
   "outputs": [
    {
     "data": {
      "text/plain": [
       "7"
      ]
     },
     "execution_count": 11,
     "metadata": {},
     "output_type": "execute_result"
    }
   ],
   "source": [
    "0b111\n"
   ]
  },
  {
   "cell_type": "code",
   "execution_count": 19,
   "id": "3267e602-9508-4444-ae9a-80f30baf140e",
   "metadata": {},
   "outputs": [
    {
     "name": "stdout",
     "output_type": "stream",
     "text": [
      "10.0\n",
      "100.0\n",
      "2000.0\n",
      "40000.0\n"
     ]
    }
   ],
   "source": [
    "print(1e+1)\n",
    "print(1e+2)\n",
    "print(2e+3)\n",
    "print(4e+4)"
   ]
  },
  {
   "cell_type": "code",
   "execution_count": 21,
   "id": "092a7408-a450-4f26-b425-df8a3cc99084",
   "metadata": {},
   "outputs": [
    {
     "name": "stdout",
     "output_type": "stream",
     "text": [
      "0.1\n",
      "0.01\n",
      "0.002\n",
      "0.0004\n"
     ]
    }
   ],
   "source": [
    "print(1e-1)\n",
    "print(1e-2)\n",
    "print(2e-3)\n",
    "print(4e-4)"
   ]
  },
  {
   "cell_type": "code",
   "execution_count": null,
   "id": "8242fc7b-02df-4923-aff1-53f657bb2ef4",
   "metadata": {},
   "outputs": [],
   "source": []
  }
 ],
 "metadata": {
  "kernelspec": {
   "display_name": "Python [conda env:base] *",
   "language": "python",
   "name": "conda-base-py"
  },
  "language_info": {
   "codemirror_mode": {
    "name": "ipython",
    "version": 3
   },
   "file_extension": ".py",
   "mimetype": "text/x-python",
   "name": "python",
   "nbconvert_exporter": "python",
   "pygments_lexer": "ipython3",
   "version": "3.12.7"
  }
 },
 "nbformat": 4,
 "nbformat_minor": 5
}
